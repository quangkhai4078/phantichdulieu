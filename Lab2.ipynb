{
  "nbformat": 4,
  "nbformat_minor": 0,
  "metadata": {
    "colab": {
      "name": "Lab2.ipynb",
      "provenance": [],
      "authorship_tag": "ABX9TyMpZ8aLZcScejZezMs+yUrr",
      "include_colab_link": true
    },
    "kernelspec": {
      "name": "python3",
      "display_name": "Python 3"
    },
    "language_info": {
      "name": "python"
    }
  },
  "cells": [
    {
      "cell_type": "markdown",
      "metadata": {
        "id": "view-in-github",
        "colab_type": "text"
      },
      "source": [
        "<a href=\"https://colab.research.google.com/github/quangkhai4078/phantichdulieu/blob/main/Lab2.ipynb\" target=\"_parent\"><img src=\"https://colab.research.google.com/assets/colab-badge.svg\" alt=\"Open In Colab\"/></a>"
      ]
    },
    {
      "cell_type": "markdown",
      "source": [
        "Example 1:"
      ],
      "metadata": {
        "id": "5cDaZmBQLUxA"
      }
    },
    {
      "cell_type": "code",
      "execution_count": null,
      "metadata": {
        "id": "yOA52svFKOQi",
        "colab": {
          "base_uri": "https://localhost:8080/",
          "height": 235
        },
        "outputId": "a91415c5-f177-4d10-cba5-6e0e0a46c399"
      },
      "outputs": [
        {
          "output_type": "error",
          "ename": "NameError",
          "evalue": "ignored",
          "traceback": [
            "\u001b[0;31m---------------------------------------------------------------------------\u001b[0m",
            "\u001b[0;31mNameError\u001b[0m                                 Traceback (most recent call last)",
            "\u001b[0;32m<ipython-input-1-041574a8e7fb>\u001b[0m in \u001b[0;36m<module>\u001b[0;34m()\u001b[0m\n\u001b[1;32m      1\u001b[0m \u001b[0mget_ipython\u001b[0m\u001b[0;34m(\u001b[0m\u001b[0;34m)\u001b[0m\u001b[0;34m.\u001b[0m\u001b[0mmagic\u001b[0m\u001b[0;34m(\u001b[0m\u001b[0;34m'matplotlib inline'\u001b[0m\u001b[0;34m)\u001b[0m\u001b[0;34m\u001b[0m\u001b[0;34m\u001b[0m\u001b[0m\n\u001b[1;32m      2\u001b[0m \u001b[0mget_ipython\u001b[0m\u001b[0;34m(\u001b[0m\u001b[0;34m)\u001b[0m\u001b[0;34m.\u001b[0m\u001b[0mmagic\u001b[0m\u001b[0;34m(\u001b[0m\u001b[0;34m\"config InlineBackend.figure_format = 'svg'\"\u001b[0m\u001b[0;34m)\u001b[0m\u001b[0;34m\u001b[0m\u001b[0;34m\u001b[0m\u001b[0m\n\u001b[0;32m----> 3\u001b[0;31m sns.heatmap(dfcovid19.isna(), \n\u001b[0m\u001b[1;32m      4\u001b[0m             \u001b[0myticklabels\u001b[0m\u001b[0;34m=\u001b[0m\u001b[0;32mFalse\u001b[0m\u001b[0;34m,\u001b[0m\u001b[0;34m\u001b[0m\u001b[0;34m\u001b[0m\u001b[0m\n\u001b[1;32m      5\u001b[0m             \u001b[0mcbar\u001b[0m\u001b[0;34m=\u001b[0m\u001b[0;32mTrue\u001b[0m\u001b[0;34m,\u001b[0m\u001b[0;34m\u001b[0m\u001b[0;34m\u001b[0m\u001b[0m\n",
            "\u001b[0;31mNameError\u001b[0m: name 'sns' is not defined"
          ]
        }
      ],
      "source": [
        "%matplotlib inline\n",
        "%config InlineBackend.figure_format = 'svg'\n",
        "sns.heatmap(dfcovid19.isna(), \n",
        "            yticklabels=False, \n",
        "            cbar=True, \n",
        "            cmap='viridis')"
      ]
    },
    {
      "cell_type": "markdown",
      "source": [
        "Example 2:"
      ],
      "metadata": {
        "id": "FIrKGFcBMdHJ"
      }
    },
    {
      "cell_type": "code",
      "source": [
        "import pandas as pd\n",
        "\n",
        "# create a sample dataframe\n",
        "df = pd.DataFrame({\n",
        "    'History': [76, 84, 68, 94],\n",
        "    'Math': [81, 67, 91, 86],\n",
        "    'English': [72, 93, 84, 76]\n",
        "})\n",
        "\n",
        "# print the dataframe\n",
        "print(\"The original dataframe:\\n\")\n",
        "print(df)\n",
        "\n",
        "# function to be applied\n",
        "def get_mean(scores):\n",
        "    return sum(scores)/len(scores)\n",
        "\n",
        "# get the mean score for each subject\n",
        "result = df.apply(get_mean)\n",
        "print(\"\\nThe result of applying the function on the dataframe:\\n\")\n",
        "print(result)"
      ],
      "metadata": {
        "colab": {
          "base_uri": "https://localhost:8080/"
        },
        "id": "t7mm1ApeMcYm",
        "outputId": "b7ea6c07-e0d2-456a-c609-492d17ce7750"
      },
      "execution_count": 1,
      "outputs": [
        {
          "output_type": "stream",
          "name": "stdout",
          "text": [
            "The original dataframe:\n",
            "\n",
            "   History  Math  English\n",
            "0       76    81       72\n",
            "1       84    67       93\n",
            "2       68    91       84\n",
            "3       94    86       76\n",
            "\n",
            "The result of applying the function on the dataframe:\n",
            "\n",
            "History    80.50\n",
            "Math       81.25\n",
            "English    81.25\n",
            "dtype: float64\n"
          ]
        }
      ]
    },
    {
      "cell_type": "markdown",
      "source": [
        "Example 3:"
      ],
      "metadata": {
        "id": "IFDGgXAVMk09"
      }
    },
    {
      "cell_type": "code",
      "source": [
        "import pandas as pd\n",
        "\n",
        "# create a sample dataframe\n",
        "df = pd.DataFrame({\n",
        "    'History': [76, 84, 68, 94],\n",
        "    'Math': [81, 67, 91, 86],\n",
        "    'English': [72, 93, 84, 76]\n",
        "}, index=['Sam', 'Greta', 'Mike', 'Emma'])\n",
        "\n",
        "# print the dataframe\n",
        "print(\"The original dataframe:\\n\")\n",
        "print(df)\n",
        "\n",
        "# function to be applied\n",
        "def get_mean(scores):\n",
        "    return sum(scores)/len(scores)\n",
        "\n",
        "# get the mean score for each student\n",
        "result = df.apply(get_mean, axis=1)\n",
        "print(\"\\nThe result of applying the function on the dataframe:\\n\")\n",
        "print(result)"
      ],
      "metadata": {
        "colab": {
          "base_uri": "https://localhost:8080/"
        },
        "id": "tHbL4Og3MkYn",
        "outputId": "03f0c6c0-29f2-420c-afac-3391d5f8cc51"
      },
      "execution_count": 2,
      "outputs": [
        {
          "output_type": "stream",
          "name": "stdout",
          "text": [
            "The original dataframe:\n",
            "\n",
            "       History  Math  English\n",
            "Sam         76    81       72\n",
            "Greta       84    67       93\n",
            "Mike        68    91       84\n",
            "Emma        94    86       76\n",
            "\n",
            "The result of applying the function on the dataframe:\n",
            "\n",
            "Sam      76.333333\n",
            "Greta    81.333333\n",
            "Mike     81.000000\n",
            "Emma     85.333333\n",
            "dtype: float64\n"
          ]
        }
      ]
    },
    {
      "cell_type": "markdown",
      "source": [
        "Example 4:"
      ],
      "metadata": {
        "id": "eO-qSwB3Mr7E"
      }
    },
    {
      "cell_type": "code",
      "source": [
        "def split_name_series(string):\n",
        "  country, region=string.split(';')\n",
        "  return pd.Series(\n",
        "      (country, region),\n",
        "      index='country, region'.split()\n",
        "  )"
      ],
      "metadata": {
        "id": "_XEDcXwpMq2G"
      },
      "execution_count": 4,
      "outputs": []
    },
    {
      "cell_type": "code",
      "source": [
        "def split_name(x_df):\n",
        "    # Select the Name column and apply a function\n",
        "    res=x_df['CountryRegion'].apply(split_name_series)\n",
        "    x_df[res.columns]=res\n",
        "    return x_df"
      ],
      "metadata": {
        "id": "L5ZXWL8YMtwN"
      },
      "execution_count": 5,
      "outputs": []
    },
    {
      "cell_type": "markdown",
      "source": [
        "Example 5:"
      ],
      "metadata": {
        "id": "yZ3U3WlxNMDl"
      }
    },
    {
      "cell_type": "code",
      "source": [
        "res=load_data('countriessample.csv').pipe(split_Example 4)\n",
        "res"
      ],
      "metadata": {
        "id": "KhkPQhqVNLgk",
        "outputId": "2c17c34e-4d27-44d5-860a-d5ca76df05f4",
        "colab": {
          "base_uri": "https://localhost:8080/",
          "height": 130
        }
      },
      "execution_count": 9,
      "outputs": [
        {
          "output_type": "error",
          "ename": "SyntaxError",
          "evalue": "ignored",
          "traceback": [
            "\u001b[0;36m  File \u001b[0;32m\"<ipython-input-9-00ede8c10c75>\"\u001b[0;36m, line \u001b[0;32m1\u001b[0m\n\u001b[0;31m    res=load_data('countriessample.csv').pipe(split_Example 4)\u001b[0m\n\u001b[0m                                                            ^\u001b[0m\n\u001b[0;31mSyntaxError\u001b[0m\u001b[0;31m:\u001b[0m invalid syntax\n"
          ]
        }
      ]
    },
    {
      "cell_type": "markdown",
      "source": [
        "Example 6:"
      ],
      "metadata": {
        "id": "Vd63XpWGPSJS"
      }
    },
    {
      "cell_type": "code",
      "source": [
        "def substitute_region(x_df):\n",
        "    mapping={'Africa':'AF', 'Asia':'AS','Europe':'EU','South America':'SA','North America':'NA'}\n",
        "    x_df['region']=x_df['region'].map(mapping)\n",
        "    return x_df"
      ],
      "metadata": {
        "id": "U9W9PSvkPPgs"
      },
      "execution_count": 10,
      "outputs": []
    },
    {
      "cell_type": "code",
      "source": [
        "res=(res.pipe(substitute_region))\n",
        "res"
      ],
      "metadata": {
        "id": "_eYhWjCsPRfi",
        "outputId": "40be40ea-76a4-4bae-b896-57c8780a328b",
        "colab": {
          "base_uri": "https://localhost:8080/",
          "height": 183
        }
      },
      "execution_count": 11,
      "outputs": [
        {
          "output_type": "error",
          "ename": "NameError",
          "evalue": "ignored",
          "traceback": [
            "\u001b[0;31m---------------------------------------------------------------------------\u001b[0m",
            "\u001b[0;31mNameError\u001b[0m                                 Traceback (most recent call last)",
            "\u001b[0;32m<ipython-input-11-85b0806751f0>\u001b[0m in \u001b[0;36m<module>\u001b[0;34m()\u001b[0m\n\u001b[0;32m----> 1\u001b[0;31m \u001b[0mres\u001b[0m\u001b[0;34m=\u001b[0m\u001b[0;34m(\u001b[0m\u001b[0mres\u001b[0m\u001b[0;34m.\u001b[0m\u001b[0mpipe\u001b[0m\u001b[0;34m(\u001b[0m\u001b[0msubstitute_region\u001b[0m\u001b[0;34m)\u001b[0m\u001b[0;34m)\u001b[0m\u001b[0;34m\u001b[0m\u001b[0;34m\u001b[0m\u001b[0m\n\u001b[0m\u001b[1;32m      2\u001b[0m \u001b[0mres\u001b[0m\u001b[0;34m\u001b[0m\u001b[0;34m\u001b[0m\u001b[0m\n",
            "\u001b[0;31mNameError\u001b[0m: name 'res' is not defined"
          ]
        }
      ]
    },
    {
      "cell_type": "markdown",
      "source": [
        "Example 7: "
      ],
      "metadata": {
        "id": "c_GkOj1pP9x1"
      }
    },
    {
      "cell_type": "code",
      "source": [
        "import pandas as pd\n",
        "import numpy as np\n",
        "a = pd.cut(np.array([1, 7, 5, 4, 6, 3]), 3)"
      ],
      "metadata": {
        "id": "ZubfYiQ9PVUi"
      },
      "execution_count": 13,
      "outputs": []
    },
    {
      "cell_type": "code",
      "source": [
        "a"
      ],
      "metadata": {
        "id": "kLV4Y5LlQA0h",
        "outputId": "f0ef09e4-6ef9-45d3-8484-0f1a62486074",
        "colab": {
          "base_uri": "https://localhost:8080/"
        }
      },
      "execution_count": 14,
      "outputs": [
        {
          "output_type": "execute_result",
          "data": {
            "text/plain": [
              "[(0.994, 3.0], (5.0, 7.0], (3.0, 5.0], (3.0, 5.0], (5.0, 7.0], (0.994, 3.0]]\n",
              "Categories (3, interval[float64, right]): [(0.994, 3.0] < (3.0, 5.0] < (5.0, 7.0]]"
            ]
          },
          "metadata": {},
          "execution_count": 14
        }
      ]
    },
    {
      "cell_type": "markdown",
      "source": [
        "Example 8"
      ],
      "metadata": {
        "id": "KM4e83ucQEnX"
      }
    },
    {
      "cell_type": "code",
      "source": [
        "import pandas as pd\n",
        "import numpy as np\n",
        "pd.cut(np.array([1, 7, 5, 4, 6, 3]),bins = 3, labels=[\"bad\", \"medium\", \"good\"])"
      ],
      "metadata": {
        "id": "GMzFo_ZvQELR",
        "outputId": "614d5f02-75a4-425b-aa0d-e23213885b9a",
        "colab": {
          "base_uri": "https://localhost:8080/"
        }
      },
      "execution_count": 15,
      "outputs": [
        {
          "output_type": "execute_result",
          "data": {
            "text/plain": [
              "['bad', 'good', 'medium', 'medium', 'good', 'bad']\n",
              "Categories (3, object): ['bad' < 'medium' < 'good']"
            ]
          },
          "metadata": {},
          "execution_count": 15
        }
      ]
    },
    {
      "cell_type": "markdown",
      "source": [
        "Example 9:"
      ],
      "metadata": {
        "id": "NBmuKemdQKdt"
      }
    },
    {
      "cell_type": "code",
      "source": [
        "import pandas as pd\n",
        "import numpy as np\n",
        "pd.cut(np.array([1, 7, 5, 4, 6, 3]), 3,labels=[\"B\", \"A\", \"B\"], ordered=False)"
      ],
      "metadata": {
        "id": "HKXRSdaPQJqR",
        "outputId": "16598dea-0952-43ec-c826-873eca0de8bb",
        "colab": {
          "base_uri": "https://localhost:8080/"
        }
      },
      "execution_count": 16,
      "outputs": [
        {
          "output_type": "execute_result",
          "data": {
            "text/plain": [
              "['B', 'B', 'A', 'A', 'B', 'B']\n",
              "Categories (2, object): ['A', 'B']"
            ]
          },
          "metadata": {},
          "execution_count": 16
        }
      ]
    },
    {
      "cell_type": "markdown",
      "source": [
        "Example 10:"
      ],
      "metadata": {
        "id": "X8MFN2JoQOw9"
      }
    },
    {
      "cell_type": "code",
      "source": [
        "def create_evaluation_group(x_df):\n",
        "    bins=[0.0, 3000, 5000, sys.maxsize]\n",
        "    labels=['normal', 'medium', 'worst']\n",
        "    evaluationGroup=pd.cut(x_df['Confirmed'], bins=bins, labels=labels,include_lowest=True)\n",
        "    x_df['Evaluation']=evaluationGroup\n",
        "    return x_df"
      ],
      "metadata": {
        "id": "lPG9w5ujQJxm"
      },
      "execution_count": 17,
      "outputs": []
    },
    {
      "cell_type": "code",
      "source": [
        "res=(res.pipe(create_evaluation_group))\n",
        "res"
      ],
      "metadata": {
        "id": "4i5BQVQNQR4q",
        "outputId": "72d733a1-ea8a-4c71-bb70-b527b7412294",
        "colab": {
          "base_uri": "https://localhost:8080/",
          "height": 183
        }
      },
      "execution_count": 18,
      "outputs": [
        {
          "output_type": "error",
          "ename": "NameError",
          "evalue": "ignored",
          "traceback": [
            "\u001b[0;31m---------------------------------------------------------------------------\u001b[0m",
            "\u001b[0;31mNameError\u001b[0m                                 Traceback (most recent call last)",
            "\u001b[0;32m<ipython-input-18-049cd25980ff>\u001b[0m in \u001b[0;36m<module>\u001b[0;34m()\u001b[0m\n\u001b[0;32m----> 1\u001b[0;31m \u001b[0mres\u001b[0m\u001b[0;34m=\u001b[0m\u001b[0;34m(\u001b[0m\u001b[0mres\u001b[0m\u001b[0;34m.\u001b[0m\u001b[0mpipe\u001b[0m\u001b[0;34m(\u001b[0m\u001b[0mcreate_evaluation_group\u001b[0m\u001b[0;34m)\u001b[0m\u001b[0;34m)\u001b[0m\u001b[0;34m\u001b[0m\u001b[0;34m\u001b[0m\u001b[0m\n\u001b[0m\u001b[1;32m      2\u001b[0m \u001b[0mres\u001b[0m\u001b[0;34m\u001b[0m\u001b[0;34m\u001b[0m\u001b[0m\n",
            "\u001b[0;31mNameError\u001b[0m: name 'res' is not defined"
          ]
        }
      ]
    }
  ]
}