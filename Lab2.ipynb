{
  "nbformat": 4,
  "nbformat_minor": 0,
  "metadata": {
    "colab": {
      "name": "Lab2.ipynb",
      "provenance": [],
      "authorship_tag": "ABX9TyN8NJIxQ2PnJTyAP0Mic49C",
      "include_colab_link": true
    },
    "kernelspec": {
      "name": "python3",
      "display_name": "Python 3"
    },
    "language_info": {
      "name": "python"
    }
  },
  "cells": [
    {
      "cell_type": "markdown",
      "metadata": {
        "id": "view-in-github",
        "colab_type": "text"
      },
      "source": [
        "<a href=\"https://colab.research.google.com/github/quangkhai4078/phantichdulieu/blob/main/Lab2.ipynb\" target=\"_parent\"><img src=\"https://colab.research.google.com/assets/colab-badge.svg\" alt=\"Open In Colab\"/></a>"
      ]
    },
    {
      "cell_type": "markdown",
      "source": [
        "Example 1:"
      ],
      "metadata": {
        "id": "5cDaZmBQLUxA"
      }
    },
    {
      "cell_type": "code",
      "execution_count": null,
      "metadata": {
        "id": "yOA52svFKOQi",
        "colab": {
          "base_uri": "https://localhost:8080/",
          "height": 235
        },
        "outputId": "a91415c5-f177-4d10-cba5-6e0e0a46c399"
      },
      "outputs": [
        {
          "output_type": "error",
          "ename": "NameError",
          "evalue": "ignored",
          "traceback": [
            "\u001b[0;31m---------------------------------------------------------------------------\u001b[0m",
            "\u001b[0;31mNameError\u001b[0m                                 Traceback (most recent call last)",
            "\u001b[0;32m<ipython-input-1-041574a8e7fb>\u001b[0m in \u001b[0;36m<module>\u001b[0;34m()\u001b[0m\n\u001b[1;32m      1\u001b[0m \u001b[0mget_ipython\u001b[0m\u001b[0;34m(\u001b[0m\u001b[0;34m)\u001b[0m\u001b[0;34m.\u001b[0m\u001b[0mmagic\u001b[0m\u001b[0;34m(\u001b[0m\u001b[0;34m'matplotlib inline'\u001b[0m\u001b[0;34m)\u001b[0m\u001b[0;34m\u001b[0m\u001b[0;34m\u001b[0m\u001b[0m\n\u001b[1;32m      2\u001b[0m \u001b[0mget_ipython\u001b[0m\u001b[0;34m(\u001b[0m\u001b[0;34m)\u001b[0m\u001b[0;34m.\u001b[0m\u001b[0mmagic\u001b[0m\u001b[0;34m(\u001b[0m\u001b[0;34m\"config InlineBackend.figure_format = 'svg'\"\u001b[0m\u001b[0;34m)\u001b[0m\u001b[0;34m\u001b[0m\u001b[0;34m\u001b[0m\u001b[0m\n\u001b[0;32m----> 3\u001b[0;31m sns.heatmap(dfcovid19.isna(), \n\u001b[0m\u001b[1;32m      4\u001b[0m             \u001b[0myticklabels\u001b[0m\u001b[0;34m=\u001b[0m\u001b[0;32mFalse\u001b[0m\u001b[0;34m,\u001b[0m\u001b[0;34m\u001b[0m\u001b[0;34m\u001b[0m\u001b[0m\n\u001b[1;32m      5\u001b[0m             \u001b[0mcbar\u001b[0m\u001b[0;34m=\u001b[0m\u001b[0;32mTrue\u001b[0m\u001b[0;34m,\u001b[0m\u001b[0;34m\u001b[0m\u001b[0;34m\u001b[0m\u001b[0m\n",
            "\u001b[0;31mNameError\u001b[0m: name 'sns' is not defined"
          ]
        }
      ],
      "source": [
        "%matplotlib inline\n",
        "%config InlineBackend.figure_format = 'svg'\n",
        "sns.heatmap(dfcovid19.isna(), \n",
        "            yticklabels=False, \n",
        "            cbar=True, \n",
        "            cmap='viridis')"
      ]
    },
    {
      "cell_type": "markdown",
      "source": [
        "Example 2:"
      ],
      "metadata": {
        "id": "FIrKGFcBMdHJ"
      }
    },
    {
      "cell_type": "code",
      "source": [
        "import pandas as pd\n",
        "\n",
        "# create a sample dataframe\n",
        "df = pd.DataFrame({\n",
        "    'History': [76, 84, 68, 94],\n",
        "    'Math': [81, 67, 91, 86],\n",
        "    'English': [72, 93, 84, 76]\n",
        "})\n",
        "\n",
        "# print the dataframe\n",
        "print(\"The original dataframe:\\n\")\n",
        "print(df)\n",
        "\n",
        "# function to be applied\n",
        "def get_mean(scores):\n",
        "    return sum(scores)/len(scores)\n",
        "\n",
        "# get the mean score for each subject\n",
        "result = df.apply(get_mean)\n",
        "print(\"\\nThe result of applying the function on the dataframe:\\n\")\n",
        "print(result)"
      ],
      "metadata": {
        "id": "t7mm1ApeMcYm",
        "outputId": "b7ea6c07-e0d2-456a-c609-492d17ce7750",
        "colab": {
          "base_uri": "https://localhost:8080/"
        }
      },
      "execution_count": 1,
      "outputs": [
        {
          "output_type": "stream",
          "name": "stdout",
          "text": [
            "The original dataframe:\n",
            "\n",
            "   History  Math  English\n",
            "0       76    81       72\n",
            "1       84    67       93\n",
            "2       68    91       84\n",
            "3       94    86       76\n",
            "\n",
            "The result of applying the function on the dataframe:\n",
            "\n",
            "History    80.50\n",
            "Math       81.25\n",
            "English    81.25\n",
            "dtype: float64\n"
          ]
        }
      ]
    },
    {
      "cell_type": "markdown",
      "source": [
        "Example 3:"
      ],
      "metadata": {
        "id": "IFDGgXAVMk09"
      }
    },
    {
      "cell_type": "code",
      "source": [
        "import pandas as pd\n",
        "\n",
        "# create a sample dataframe\n",
        "df = pd.DataFrame({\n",
        "    'History': [76, 84, 68, 94],\n",
        "    'Math': [81, 67, 91, 86],\n",
        "    'English': [72, 93, 84, 76]\n",
        "}, index=['Sam', 'Greta', 'Mike', 'Emma'])\n",
        "\n",
        "# print the dataframe\n",
        "print(\"The original dataframe:\\n\")\n",
        "print(df)\n",
        "\n",
        "# function to be applied\n",
        "def get_mean(scores):\n",
        "    return sum(scores)/len(scores)\n",
        "\n",
        "# get the mean score for each student\n",
        "result = df.apply(get_mean, axis=1)\n",
        "print(\"\\nThe result of applying the function on the dataframe:\\n\")\n",
        "print(result)"
      ],
      "metadata": {
        "id": "tHbL4Og3MkYn",
        "outputId": "03f0c6c0-29f2-420c-afac-3391d5f8cc51",
        "colab": {
          "base_uri": "https://localhost:8080/"
        }
      },
      "execution_count": 2,
      "outputs": [
        {
          "output_type": "stream",
          "name": "stdout",
          "text": [
            "The original dataframe:\n",
            "\n",
            "       History  Math  English\n",
            "Sam         76    81       72\n",
            "Greta       84    67       93\n",
            "Mike        68    91       84\n",
            "Emma        94    86       76\n",
            "\n",
            "The result of applying the function on the dataframe:\n",
            "\n",
            "Sam      76.333333\n",
            "Greta    81.333333\n",
            "Mike     81.000000\n",
            "Emma     85.333333\n",
            "dtype: float64\n"
          ]
        }
      ]
    },
    {
      "cell_type": "markdown",
      "source": [
        "Example 4:"
      ],
      "metadata": {
        "id": "eO-qSwB3Mr7E"
      }
    },
    {
      "cell_type": "code",
      "source": [
        "def split_name_series(string):\n",
        "  country, region=string.split(';')\n",
        "  return pd.Series(\n",
        "      (country, region),\n",
        "      index='country, region'.split()\n",
        "  )"
      ],
      "metadata": {
        "id": "_XEDcXwpMq2G"
      },
      "execution_count": null,
      "outputs": []
    },
    {
      "cell_type": "code",
      "source": [
        "def split_name(x_df):\n",
        "    # Select the Name column and apply a function\n",
        "    res=x_df['CountryRegion'].apply(split_name_series)\n",
        "    x_df[res.columns]=res\n",
        "    return x_df"
      ],
      "metadata": {
        "id": "L5ZXWL8YMtwN"
      },
      "execution_count": null,
      "outputs": []
    }
  ]
}