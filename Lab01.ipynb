{
  "nbformat": 4,
  "nbformat_minor": 0,
  "metadata": {
    "colab": {
      "name": "Lab01.ipynb",
      "provenance": [],
      "authorship_tag": "ABX9TyN5Jnl/mF3zo5AESZbnbrLE",
      "include_colab_link": true
    },
    "kernelspec": {
      "name": "python3",
      "display_name": "Python 3"
    },
    "language_info": {
      "name": "python"
    }
  },
  "cells": [
    {
      "cell_type": "markdown",
      "metadata": {
        "id": "view-in-github",
        "colab_type": "text"
      },
      "source": [
        "<a href=\"https://colab.research.google.com/github/quangkhai4078/phantichdulieu/blob/main/Lab01.ipynb\" target=\"_parent\"><img src=\"https://colab.research.google.com/assets/colab-badge.svg\" alt=\"Open In Colab\"/></a>"
      ]
    },
    {
      "cell_type": "code",
      "execution_count": 7,
      "metadata": {
        "colab": {
          "base_uri": "https://localhost:8080/"
        },
        "id": "QT8PQ2Lf3yaW",
        "outputId": "b14e21f9-458d-4431-d99d-1cde941b26f3"
      },
      "outputs": [
        {
          "output_type": "stream",
          "name": "stdout",
          "text": [
            "chào mừng các bạn đến với bào thực hành PTDL-Lab01Lab01\n"
          ]
        }
      ],
      "source": [
        "print(\"chào mừng các bạn đến với bào thực hành PTDL-Lab01Lab01\")"
      ]
    },
    {
      "cell_type": "code",
      "source": [
        "a =5\n",
        "b=5"
      ],
      "metadata": {
        "id": "ORO84m9Z4nyC"
      },
      "execution_count": 8,
      "outputs": []
    },
    {
      "cell_type": "code",
      "source": [
        "c=a+b\n",
        "print(c)"
      ],
      "metadata": {
        "colab": {
          "base_uri": "https://localhost:8080/"
        },
        "id": "znkJA7jr4rnC",
        "outputId": "967ebfd1-c57d-4556-a6d1-b84e7fa92a33"
      },
      "execution_count": 10,
      "outputs": [
        {
          "output_type": "stream",
          "name": "stdout",
          "text": [
            "10\n"
          ]
        }
      ]
    },
    {
      "cell_type": "code",
      "source": [
        "print (\"ahhii các bạn\")"
      ],
      "metadata": {
        "colab": {
          "base_uri": "https://localhost:8080/"
        },
        "id": "KH331Gd45njh",
        "outputId": "e22b81d5-663a-450b-f2ff-bdcbcaa8af4a"
      },
      "execution_count": 11,
      "outputs": [
        {
          "output_type": "stream",
          "name": "stdout",
          "text": [
            "ahhii các bạn\n"
          ]
        }
      ]
    },
    {
      "cell_type": "code",
      "source": [
        ""
      ],
      "metadata": {
        "id": "q7DGY6sT8UQN"
      },
      "execution_count": null,
      "outputs": []
    }
  ]
}